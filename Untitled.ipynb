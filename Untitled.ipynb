{
 "cells": [
  {
   "cell_type": "markdown",
   "metadata": {},
   "source": [
    "# Exploring the Kaggle Data Science Survey\n",
    "This is an EDA I have done in [DataCamp](https://www.datacamp.com/projects/74) to discover what top tools Kaggle participants use for data science and machine learning. \n",
    "The data used in this project comes from the [Kaggle Data Science Survey](https://www.kaggle.com/kaggle/kaggle-survey-2017?utm_medium=partner&utm_source=datacamp.com&utm_campaign=ml+survey+case+study) which includes responses from over 10,000 people that write code to analyze data in their daily work. \n",
    "I have done this project using R.\n",
    "\n",
    "[Link to Project](https://github.com/emuhsina/kaggle_ds_survey/blob/master/notebook.ipynb)"
   ]
  }
 ],
 "metadata": {
  "kernelspec": {
   "display_name": "R",
   "language": "R",
   "name": "ir"
  },
  "language_info": {
   "codemirror_mode": "r",
   "file_extension": ".r",
   "mimetype": "text/x-r-source",
   "name": "R",
   "pygments_lexer": "r",
   "version": "3.4.3"
  }
 },
 "nbformat": 4,
 "nbformat_minor": 2
}
